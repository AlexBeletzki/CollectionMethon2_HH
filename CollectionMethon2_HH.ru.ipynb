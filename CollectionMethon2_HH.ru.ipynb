{
 "cells": [
  {
   "cell_type": "code",
   "execution_count": 23,
   "metadata": {},
   "outputs": [],
   "source": [
    "from bs4 import BeautifulSoup as bs\n",
    "import requests\n",
    "import numpy as np\n",
    "import pandas as pd"
   ]
  },
  {
   "cell_type": "code",
   "execution_count": 2,
   "metadata": {},
   "outputs": [],
   "source": [
    "headers = {'accept': '*/*',\n",
    "          'user-agent': 'Mozilla/5.0 (Windows NT 10.0; Win64; x64; rv:69.0) Gecko/20100101 Firefox/69.0'}"
   ]
  },
  {
   "cell_type": "code",
   "execution_count": 3,
   "metadata": {},
   "outputs": [],
   "source": [
    "main_link = ('https://hh.ru/search/vacancy?area=1&st=searchVacancy&text=Itfb+group&from=suggest_post')"
   ]
  },
  {
   "cell_type": "code",
   "execution_count": 35,
   "metadata": {},
   "outputs": [
    {
     "name": "stdout",
     "output_type": "stream",
     "text": [
      "                             Название вакансии  \\\n",
      "0                                        HR BP   \n",
      "1                             Java разработчик   \n",
      "2                               Архитектор IDM   \n",
      "3               Руководитель группы аналитиков   \n",
      "4                              Архитектор Java   \n",
      "5          Руководитель группы разработки Java   \n",
      "6                               Тестировщик ПО   \n",
      "7                                  Инженер IDM   \n",
      "8         PHP-разработчик/ Младший разработчик   \n",
      "9                         Frontend-разработчик   \n",
      "10  Руководитель IT проектов / Project manager   \n",
      "11                        Технический писатель   \n",
      "12                                Аналитик CRM   \n",
      "13                            Ведущий аналитик   \n",
      "14       Ведущий разработчик Oracle Siebel CRM   \n",
      "15          Младший автоматизатор тестирования   \n",
      "16                            Младший аналитик   \n",
      "\n",
      "                                   Ссылка на вакансию  \n",
      "0   https://hh.ru/vacancy/34074469?query=Itfb%20group  \n",
      "1   https://hh.ru/vacancy/33749185?query=Itfb%20group  \n",
      "2   https://hh.ru/vacancy/33813062?query=Itfb%20group  \n",
      "3   https://hh.ru/vacancy/34175557?query=Itfb%20group  \n",
      "4   https://hh.ru/vacancy/34175525?query=Itfb%20group  \n",
      "5   https://hh.ru/vacancy/33716780?query=Itfb%20group  \n",
      "6   https://hh.ru/vacancy/34076640?query=Itfb%20group  \n",
      "7   https://hh.ru/vacancy/33729733?query=Itfb%20group  \n",
      "8   https://hh.ru/vacancy/34080188?query=Itfb%20group  \n",
      "9   https://hh.ru/vacancy/33962833?query=Itfb%20group  \n",
      "10  https://hh.ru/vacancy/33952650?query=Itfb%20group  \n",
      "11  https://hh.ru/vacancy/33764375?query=Itfb%20group  \n",
      "12  https://hh.ru/vacancy/33962852?query=Itfb%20group  \n",
      "13  https://hh.ru/vacancy/33962865?query=Itfb%20group  \n",
      "14  https://hh.ru/vacancy/33763775?query=Itfb%20group  \n",
      "15  https://hh.ru/vacancy/33396031?query=Itfb%20group  \n",
      "16  https://hh.ru/vacancy/31522509?query=Itfb%20group  \n"
     ]
    },
    {
     "data": {
      "text/plain": [
       "[{'Название вакансии': 'HR BP',\n",
       "  'Ссылка на вакансию': 'https://hh.ru/vacancy/34074469?query=Itfb%20group'},\n",
       " {'Название вакансии': 'Java разработчик',\n",
       "  'Ссылка на вакансию': 'https://hh.ru/vacancy/33749185?query=Itfb%20group'},\n",
       " {'Название вакансии': 'Архитектор IDM',\n",
       "  'Ссылка на вакансию': 'https://hh.ru/vacancy/33813062?query=Itfb%20group'},\n",
       " {'Название вакансии': 'Руководитель группы аналитиков',\n",
       "  'Ссылка на вакансию': 'https://hh.ru/vacancy/34175557?query=Itfb%20group'},\n",
       " {'Название вакансии': 'Архитектор Java',\n",
       "  'Ссылка на вакансию': 'https://hh.ru/vacancy/34175525?query=Itfb%20group'},\n",
       " {'Название вакансии': 'Руководитель группы разработки Java',\n",
       "  'Ссылка на вакансию': 'https://hh.ru/vacancy/33716780?query=Itfb%20group'},\n",
       " {'Название вакансии': 'Тестировщик ПО',\n",
       "  'Ссылка на вакансию': 'https://hh.ru/vacancy/34076640?query=Itfb%20group'},\n",
       " {'Название вакансии': 'Инженер IDM',\n",
       "  'Ссылка на вакансию': 'https://hh.ru/vacancy/33729733?query=Itfb%20group'},\n",
       " {'Название вакансии': 'PHP-разработчик/ Младший разработчик',\n",
       "  'Ссылка на вакансию': 'https://hh.ru/vacancy/34080188?query=Itfb%20group'},\n",
       " {'Название вакансии': 'Frontend-разработчик',\n",
       "  'Ссылка на вакансию': 'https://hh.ru/vacancy/33962833?query=Itfb%20group'},\n",
       " {'Название вакансии': 'Руководитель IT проектов / Project manager',\n",
       "  'Ссылка на вакансию': 'https://hh.ru/vacancy/33952650?query=Itfb%20group'},\n",
       " {'Название вакансии': 'Технический писатель',\n",
       "  'Ссылка на вакансию': 'https://hh.ru/vacancy/33764375?query=Itfb%20group'},\n",
       " {'Название вакансии': 'Аналитик CRM',\n",
       "  'Ссылка на вакансию': 'https://hh.ru/vacancy/33962852?query=Itfb%20group'},\n",
       " {'Название вакансии': 'Ведущий аналитик',\n",
       "  'Ссылка на вакансию': 'https://hh.ru/vacancy/33962865?query=Itfb%20group'},\n",
       " {'Название вакансии': 'Ведущий разработчик Oracle Siebel CRM',\n",
       "  'Ссылка на вакансию': 'https://hh.ru/vacancy/33763775?query=Itfb%20group'},\n",
       " {'Название вакансии': 'Младший автоматизатор тестирования',\n",
       "  'Ссылка на вакансию': 'https://hh.ru/vacancy/33396031?query=Itfb%20group'},\n",
       " {'Название вакансии': 'Младший аналитик',\n",
       "  'Ссылка на вакансию': 'https://hh.ru/vacancy/31522509?query=Itfb%20group'}]"
      ]
     },
     "execution_count": 35,
     "metadata": {},
     "output_type": "execute_result"
    }
   ],
   "source": [
    "def hh_parse(main_link, headers):\n",
    "    jobs = []\n",
    "    session = requests.Session()\n",
    "    request = session.get(main_link, headers = headers)\n",
    "    if request.status_code == 200:\n",
    "        soup = bs(request.content, 'lxml')\n",
    "        divs = soup.find_all('div', attrs = {'data-qa': 'vacancy-serp__vacancy'})\n",
    "        #divs_comp = soup.find_all('div', attrs = {'data-qa': \"vacancy-serp__vacancy-compensation\"})\n",
    "        #print(divs_comp)\n",
    "        for div in divs:\n",
    "            title = div.find('a', attrs = {'data-qa': 'vacancy-serp__vacancy-title'}).text\n",
    "            href = div.find('a', attrs = {'data-qa': 'vacancy-serp__vacancy-title'})['href']\n",
    "            jobs.append({'Название вакансии': title,\n",
    "                        'Ссылка на вакансию': href})\n",
    "        df = pd.DataFrame(jobs)\n",
    "        print(df)\n",
    "    else:\n",
    "        print(\"ERROR\")\n",
    "    \n",
    "    return(jobs)\n",
    "        \n",
    "hh_parse(main_link, headers)"
   ]
  }
 ],
 "metadata": {
  "kernelspec": {
   "display_name": "Python 3",
   "language": "python",
   "name": "python3"
  },
  "language_info": {
   "codemirror_mode": {
    "name": "ipython",
    "version": 3
   },
   "file_extension": ".py",
   "mimetype": "text/x-python",
   "name": "python",
   "nbconvert_exporter": "python",
   "pygments_lexer": "ipython3",
   "version": "3.7.1"
  }
 },
 "nbformat": 4,
 "nbformat_minor": 2
}
